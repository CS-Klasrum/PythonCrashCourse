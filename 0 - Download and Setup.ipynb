{
 "cells": [
  {
   "cell_type": "markdown",
   "metadata": {},
   "source": [
    "# What is Python?\n",
    "\n",
    "[Python](https://www.python.org/) is an open source programming language based on [Object-Oriented Paradigm](https://en.wikipedia.org/wiki/Object-oriented_programming) developed by [Guido van Rossum](https://en.wikipedia.org/wiki/Guido_van_Rossum) in 1989 as a \"hobby\" project. Python was named after [Monty Python's Flying Circus](https://en.wikipedia.org/wiki/Monty_Python%27s_Flying_Circus).\n",
    "\n",
    "\n",
    "## Downloading Python\n",
    "\n",
    "You can easily install [Python](https://www.python.org/) by downloading and installing the package from the [Python's Official Website](https://www.python.org/).\n",
    "\n",
    "\n",
    "## Using Anaconda\n",
    "\n",
    "Since [Python](https://www.python.org/) was one of the most used language for Machine Learning and Data Science, you could also use the [Jupyter Notebook](https://jupyter.org/) for learning it."
   ]
  },
  {
   "cell_type": "code",
   "execution_count": null,
   "metadata": {},
   "outputs": [],
   "source": []
  }
 ],
 "metadata": {
  "kernelspec": {
   "display_name": "Python 3",
   "language": "python",
   "name": "python3"
  },
  "language_info": {
   "codemirror_mode": {
    "name": "ipython",
    "version": 3
   },
   "file_extension": ".py",
   "mimetype": "text/x-python",
   "name": "python",
   "nbconvert_exporter": "python",
   "pygments_lexer": "ipython3",
   "version": "3.8.5"
  }
 },
 "nbformat": 4,
 "nbformat_minor": 4
}
