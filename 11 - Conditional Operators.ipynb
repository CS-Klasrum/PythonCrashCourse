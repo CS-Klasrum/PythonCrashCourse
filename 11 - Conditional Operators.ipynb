{
 "cells": [
  {
   "cell_type": "markdown",
   "metadata": {},
   "source": [
    "# Conditional Operators"
   ]
  },
  {
   "cell_type": "code",
   "execution_count": 1,
   "metadata": {
    "scrolled": true
   },
   "outputs": [
    {
     "name": "stdout",
     "output_type": "stream",
     "text": [
      "Tha's it!\n"
     ]
    }
   ],
   "source": [
    "if 12 > 5:\n",
    "    print(\"Tha's it!\")"
   ]
  },
  {
   "cell_type": "code",
   "execution_count": 2,
   "metadata": {},
   "outputs": [
    {
     "name": "stdout",
     "output_type": "stream",
     "text": [
      "Good!\n"
     ]
    }
   ],
   "source": [
    "choice = \"b\"\n",
    "\n",
    "if choice == \"a\":\n",
    "    print(\"What?\")\n",
    "elif choice == \"b\":\n",
    "    print(\"Good!\")"
   ]
  },
  {
   "cell_type": "code",
   "execution_count": 3,
   "metadata": {},
   "outputs": [
    {
     "name": "stdout",
     "output_type": "stream",
     "text": [
      "Say what?\n"
     ]
    }
   ],
   "source": [
    "choice = \"e\"\n",
    "\n",
    "if choice == \"a\":\n",
    "    print(\"What?\")\n",
    "elif choice == \"b\":\n",
    "    print(\"Good!\")\n",
    "else:\n",
    "    print(\"Say what?\")"
   ]
  },
  {
   "cell_type": "code",
   "execution_count": null,
   "metadata": {},
   "outputs": [],
   "source": []
  }
 ],
 "metadata": {
  "kernelspec": {
   "display_name": "Python 3",
   "language": "python",
   "name": "python3"
  },
  "language_info": {
   "codemirror_mode": {
    "name": "ipython",
    "version": 3
   },
   "file_extension": ".py",
   "mimetype": "text/x-python",
   "name": "python",
   "nbconvert_exporter": "python",
   "pygments_lexer": "ipython3",
   "version": "3.8.5"
  }
 },
 "nbformat": 4,
 "nbformat_minor": 4
}
